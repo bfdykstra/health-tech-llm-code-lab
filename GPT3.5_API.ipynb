{
 "cells": [
  {
   "cell_type": "markdown",
   "metadata": {
    "id": "EdSQsvTy58D-"
   },
   "source": [
    "**Clinical Reasoning with GPT-3**"
   ]
  },
  {
   "cell_type": "markdown",
   "metadata": {
    "id": "YjL3gawM6Gl7"
   },
   "source": [
    "**Load Necessary Dependencies**"
   ]
  },
  {
   "cell_type": "code",
   "execution_count": 3,
   "metadata": {
    "id": "29Rj6y0HHdi0"
   },
   "outputs": [
    {
     "name": "stderr",
     "output_type": "stream",
     "text": [
      "/Users/benjamindykstra/development/health-tech-llm-code-lab/venv/lib/python3.10/site-packages/tqdm/auto.py:21: TqdmWarning: IProgress not found. Please update jupyter and ipywidgets. See https://ipywidgets.readthedocs.io/en/stable/user_install.html\n",
      "  from .autonotebook import tqdm as notebook_tqdm\n"
     ]
    }
   ],
   "source": [
    "import pandas as pd\n",
    "# import cohere\n",
    "# from datasets import load_dataset\n",
    "import openai\n",
    "import os\n",
    "import dsp\n",
    "import pandas as pd\n"
   ]
  },
  {
   "cell_type": "code",
   "execution_count": 2,
   "metadata": {},
   "outputs": [
    {
     "name": "stdout",
     "output_type": "stream",
     "text": [
      "Collecting dspy\n",
      "  Downloading dspy-2.5.29-py3-none-any.whl (341 kB)\n",
      "\u001b[2K     \u001b[90m━━━━━━━━━━━━━━━━━━━━━━━━━━━━━━━━━━━━━━━\u001b[0m \u001b[32m341.8/341.8 kB\u001b[0m \u001b[31m2.7 MB/s\u001b[0m eta \u001b[36m0:00:00\u001b[0ma \u001b[36m0:00:01\u001b[0m\n",
      "\u001b[?25hCollecting datasets\n",
      "  Downloading datasets-3.1.0-py3-none-any.whl (480 kB)\n",
      "\u001b[2K     \u001b[90m━━━━━━━━━━━━━━━━━━━━━━━━━━━━━━━━━━━━━━\u001b[0m \u001b[32m480.6/480.6 kB\u001b[0m \u001b[31m13.9 MB/s\u001b[0m eta \u001b[36m0:00:00\u001b[0m\n",
      "\u001b[?25hRequirement already satisfied: tenacity>=8.2.3 in ./venv/lib/python3.10/site-packages (from dspy) (9.0.0)\n",
      "Collecting litellm==1.51.0\n",
      "  Downloading litellm-1.51.0-py3-none-any.whl (6.3 MB)\n",
      "\u001b[2K     \u001b[90m━━━━━━━━━━━━━━━━━━━━━━━━━━━━━━━━━━━━━━━━\u001b[0m \u001b[32m6.3/6.3 MB\u001b[0m \u001b[31m17.7 MB/s\u001b[0m eta \u001b[36m0:00:00\u001b[0m00:01\u001b[0m00:01\u001b[0m\n",
      "\u001b[?25hRequirement already satisfied: joblib~=1.3 in ./venv/lib/python3.10/site-packages (from dspy) (1.4.2)\n",
      "Requirement already satisfied: diskcache in ./venv/lib/python3.10/site-packages (from dspy) (5.6.3)\n",
      "Collecting magicattr~=0.1.6\n",
      "  Downloading magicattr-0.1.6-py2.py3-none-any.whl (4.7 kB)\n",
      "Requirement already satisfied: openai in ./venv/lib/python3.10/site-packages (from dspy) (1.54.3)\n",
      "Collecting json-repair\n",
      "  Downloading json_repair-0.30.1-py3-none-any.whl (18 kB)\n",
      "Collecting ujson\n",
      "  Using cached ujson-5.10.0-cp310-cp310-macosx_11_0_arm64.whl (51 kB)\n",
      "Requirement already satisfied: pandas in ./venv/lib/python3.10/site-packages (from dspy) (2.2.3)\n",
      "Requirement already satisfied: httpx in ./venv/lib/python3.10/site-packages (from dspy) (0.27.2)\n",
      "Requirement already satisfied: pydantic~=2.0 in ./venv/lib/python3.10/site-packages (from dspy) (2.9.2)\n",
      "Collecting backoff\n",
      "  Using cached backoff-2.2.1-py3-none-any.whl (15 kB)\n",
      "Requirement already satisfied: regex in ./venv/lib/python3.10/site-packages (from dspy) (2024.11.6)\n",
      "Requirement already satisfied: requests in ./venv/lib/python3.10/site-packages (from dspy) (2.32.3)\n",
      "Requirement already satisfied: tqdm in ./venv/lib/python3.10/site-packages (from dspy) (4.67.0)\n",
      "Collecting optuna\n",
      "  Downloading optuna-4.0.0-py3-none-any.whl (362 kB)\n",
      "\u001b[2K     \u001b[90m━━━━━━━━━━━━━━━━━━━━━━━━━━━━━━━━━━━━━━\u001b[0m \u001b[32m362.8/362.8 kB\u001b[0m \u001b[31m19.4 MB/s\u001b[0m eta \u001b[36m0:00:00\u001b[0m\n",
      "\u001b[?25hRequirement already satisfied: tiktoken>=0.7.0 in ./venv/lib/python3.10/site-packages (from litellm==1.51.0->dspy) (0.8.0)\n",
      "Collecting tokenizers\n",
      "  Downloading tokenizers-0.20.3-cp310-cp310-macosx_11_0_arm64.whl (2.6 MB)\n",
      "\u001b[2K     \u001b[90m━━━━━━━━━━━━━━━━━━━━━━━━━━━━━━━━━━━━━━━━\u001b[0m \u001b[32m2.6/2.6 MB\u001b[0m \u001b[31m18.1 MB/s\u001b[0m eta \u001b[36m0:00:00\u001b[0ma \u001b[36m0:00:01\u001b[0m\n",
      "\u001b[?25hRequirement already satisfied: click in ./venv/lib/python3.10/site-packages (from litellm==1.51.0->dspy) (8.1.7)\n",
      "Requirement already satisfied: jinja2<4.0.0,>=3.1.2 in ./venv/lib/python3.10/site-packages (from litellm==1.51.0->dspy) (3.1.4)\n",
      "Collecting importlib-metadata>=6.8.0\n",
      "  Downloading importlib_metadata-8.5.0-py3-none-any.whl (26 kB)\n",
      "Requirement already satisfied: python-dotenv>=0.2.0 in ./venv/lib/python3.10/site-packages (from litellm==1.51.0->dspy) (1.0.1)\n",
      "Requirement already satisfied: aiohttp in ./venv/lib/python3.10/site-packages (from litellm==1.51.0->dspy) (3.10.10)\n",
      "Collecting jsonschema<5.0.0,>=4.22.0\n",
      "  Using cached jsonschema-4.23.0-py3-none-any.whl (88 kB)\n",
      "Requirement already satisfied: distro<2,>=1.7.0 in ./venv/lib/python3.10/site-packages (from openai->dspy) (1.9.0)\n",
      "Requirement already satisfied: typing-extensions<5,>=4.11 in ./venv/lib/python3.10/site-packages (from openai->dspy) (4.12.2)\n",
      "Requirement already satisfied: sniffio in ./venv/lib/python3.10/site-packages (from openai->dspy) (1.3.1)\n",
      "Requirement already satisfied: anyio<5,>=3.5.0 in ./venv/lib/python3.10/site-packages (from openai->dspy) (4.6.2.post1)\n",
      "Requirement already satisfied: jiter<1,>=0.4.0 in ./venv/lib/python3.10/site-packages (from openai->dspy) (0.5.0)\n",
      "Requirement already satisfied: idna in ./venv/lib/python3.10/site-packages (from httpx->dspy) (3.10)\n",
      "Requirement already satisfied: httpcore==1.* in ./venv/lib/python3.10/site-packages (from httpx->dspy) (1.0.6)\n",
      "Requirement already satisfied: certifi in ./venv/lib/python3.10/site-packages (from httpx->dspy) (2024.8.30)\n",
      "Requirement already satisfied: h11<0.15,>=0.13 in ./venv/lib/python3.10/site-packages (from httpcore==1.*->httpx->dspy) (0.14.0)\n",
      "Requirement already satisfied: annotated-types>=0.6.0 in ./venv/lib/python3.10/site-packages (from pydantic~=2.0->dspy) (0.7.0)\n",
      "Requirement already satisfied: pydantic-core==2.23.4 in ./venv/lib/python3.10/site-packages (from pydantic~=2.0->dspy) (2.23.4)\n",
      "Requirement already satisfied: charset-normalizer<4,>=2 in ./venv/lib/python3.10/site-packages (from requests->dspy) (3.4.0)\n",
      "Requirement already satisfied: urllib3<3,>=1.21.1 in ./venv/lib/python3.10/site-packages (from requests->dspy) (2.2.3)\n",
      "Collecting pyarrow>=15.0.0\n",
      "  Downloading pyarrow-18.0.0-cp310-cp310-macosx_12_0_arm64.whl (29.5 MB)\n",
      "\u001b[2K     \u001b[90m━━━━━━━━━━━━━━━━━━━━━━━━━━━━━━━━━━━━━━━━\u001b[0m \u001b[32m29.5/29.5 MB\u001b[0m \u001b[31m19.3 MB/s\u001b[0m eta \u001b[36m0:00:00\u001b[0m00:01\u001b[0m00:01\u001b[0m\n",
      "\u001b[?25hCollecting dill<0.3.9,>=0.3.0\n",
      "  Downloading dill-0.3.8-py3-none-any.whl (116 kB)\n",
      "\u001b[2K     \u001b[90m━━━━━━━━━━━━━━━━━━━━━━━━━━━━━━━━━━━━━━\u001b[0m \u001b[32m116.3/116.3 kB\u001b[0m \u001b[31m15.1 MB/s\u001b[0m eta \u001b[36m0:00:00\u001b[0m\n",
      "\u001b[?25hRequirement already satisfied: packaging in ./venv/lib/python3.10/site-packages (from datasets->dspy) (24.2)\n",
      "Collecting multiprocess<0.70.17\n",
      "  Downloading multiprocess-0.70.16-py310-none-any.whl (134 kB)\n",
      "\u001b[2K     \u001b[90m━━━━━━━━━━━━━━━━━━━━━━━━━━━━━━━━━━━━━━\u001b[0m \u001b[32m134.8/134.8 kB\u001b[0m \u001b[31m16.2 MB/s\u001b[0m eta \u001b[36m0:00:00\u001b[0m\n",
      "\u001b[?25hCollecting fsspec[http]<=2024.9.0,>=2023.1.0\n",
      "  Using cached fsspec-2024.9.0-py3-none-any.whl (179 kB)\n",
      "Requirement already satisfied: numpy>=1.17 in ./venv/lib/python3.10/site-packages (from datasets->dspy) (1.26.4)\n",
      "Collecting xxhash\n",
      "  Downloading xxhash-3.5.0-cp310-cp310-macosx_11_0_arm64.whl (30 kB)\n",
      "Collecting huggingface-hub>=0.23.0\n",
      "  Downloading huggingface_hub-0.26.2-py3-none-any.whl (447 kB)\n",
      "\u001b[2K     \u001b[90m━━━━━━━━━━━━━━━━━━━━━━━━━━━━━━━━━━━━━━\u001b[0m \u001b[32m447.5/447.5 kB\u001b[0m \u001b[31m16.1 MB/s\u001b[0m eta \u001b[36m0:00:00\u001b[0m\n",
      "\u001b[?25hCollecting filelock\n",
      "  Downloading filelock-3.16.1-py3-none-any.whl (16 kB)\n",
      "Requirement already satisfied: pyyaml>=5.1 in ./venv/lib/python3.10/site-packages (from datasets->dspy) (6.0.2)\n",
      "Requirement already satisfied: sqlalchemy>=1.3.0 in ./venv/lib/python3.10/site-packages (from optuna->dspy) (2.0.36)\n",
      "Collecting alembic>=1.5.0\n",
      "  Downloading alembic-1.14.0-py3-none-any.whl (233 kB)\n",
      "\u001b[2K     \u001b[90m━━━━━━━━━━━━━━━━━━━━━━━━━━━━━━━━━━━━━━\u001b[0m \u001b[32m233.5/233.5 kB\u001b[0m \u001b[31m15.9 MB/s\u001b[0m eta \u001b[36m0:00:00\u001b[0m\n",
      "\u001b[?25hCollecting colorlog\n",
      "  Downloading colorlog-6.9.0-py3-none-any.whl (11 kB)\n",
      "Requirement already satisfied: python-dateutil>=2.8.2 in ./venv/lib/python3.10/site-packages (from pandas->dspy) (2.9.0.post0)\n",
      "Requirement already satisfied: tzdata>=2022.7 in ./venv/lib/python3.10/site-packages (from pandas->dspy) (2024.2)\n",
      "Requirement already satisfied: pytz>=2020.1 in ./venv/lib/python3.10/site-packages (from pandas->dspy) (2024.2)\n",
      "Collecting Mako\n",
      "  Downloading Mako-1.3.6-py3-none-any.whl (78 kB)\n",
      "\u001b[2K     \u001b[90m━━━━━━━━━━━━━━━━━━━━━━━━━━━━━━━━━━━━━━━━\u001b[0m \u001b[32m78.6/78.6 kB\u001b[0m \u001b[31m9.0 MB/s\u001b[0m eta \u001b[36m0:00:00\u001b[0m\n",
      "\u001b[?25hRequirement already satisfied: exceptiongroup>=1.0.2 in ./venv/lib/python3.10/site-packages (from anyio<5,>=3.5.0->openai->dspy) (1.2.2)\n",
      "Requirement already satisfied: multidict<7.0,>=4.5 in ./venv/lib/python3.10/site-packages (from aiohttp->litellm==1.51.0->dspy) (6.1.0)\n",
      "Requirement already satisfied: aiohappyeyeballs>=2.3.0 in ./venv/lib/python3.10/site-packages (from aiohttp->litellm==1.51.0->dspy) (2.4.3)\n",
      "Requirement already satisfied: aiosignal>=1.1.2 in ./venv/lib/python3.10/site-packages (from aiohttp->litellm==1.51.0->dspy) (1.3.1)\n",
      "Requirement already satisfied: async-timeout<5.0,>=4.0 in ./venv/lib/python3.10/site-packages (from aiohttp->litellm==1.51.0->dspy) (4.0.3)\n",
      "Requirement already satisfied: attrs>=17.3.0 in ./venv/lib/python3.10/site-packages (from aiohttp->litellm==1.51.0->dspy) (24.2.0)\n",
      "Requirement already satisfied: frozenlist>=1.1.1 in ./venv/lib/python3.10/site-packages (from aiohttp->litellm==1.51.0->dspy) (1.5.0)\n",
      "Requirement already satisfied: yarl<2.0,>=1.12.0 in ./venv/lib/python3.10/site-packages (from aiohttp->litellm==1.51.0->dspy) (1.17.1)\n",
      "Collecting zipp>=3.20\n",
      "  Using cached zipp-3.20.2-py3-none-any.whl (9.2 kB)\n",
      "Requirement already satisfied: MarkupSafe>=2.0 in ./venv/lib/python3.10/site-packages (from jinja2<4.0.0,>=3.1.2->litellm==1.51.0->dspy) (3.0.2)\n",
      "Collecting rpds-py>=0.7.1\n",
      "  Downloading rpds_py-0.21.0-cp310-cp310-macosx_11_0_arm64.whl (318 kB)\n",
      "\u001b[2K     \u001b[90m━━━━━━━━━━━━━━━━━━━━━━━━━━━━━━━━━━━━━━\u001b[0m \u001b[32m318.4/318.4 kB\u001b[0m \u001b[31m17.0 MB/s\u001b[0m eta \u001b[36m0:00:00\u001b[0m\n",
      "\u001b[?25hCollecting jsonschema-specifications>=2023.03.6\n",
      "  Downloading jsonschema_specifications-2024.10.1-py3-none-any.whl (18 kB)\n",
      "Collecting referencing>=0.28.4\n",
      "  Using cached referencing-0.35.1-py3-none-any.whl (26 kB)\n",
      "Requirement already satisfied: six>=1.5 in ./venv/lib/python3.10/site-packages (from python-dateutil>=2.8.2->pandas->dspy) (1.16.0)\n",
      "Requirement already satisfied: propcache>=0.2.0 in ./venv/lib/python3.10/site-packages (from yarl<2.0,>=1.12.0->aiohttp->litellm==1.51.0->dspy) (0.2.0)\n",
      "Installing collected packages: magicattr, zipp, xxhash, ujson, rpds-py, pyarrow, Mako, json-repair, fsspec, filelock, dill, colorlog, backoff, referencing, multiprocess, importlib-metadata, huggingface-hub, alembic, tokenizers, optuna, jsonschema-specifications, jsonschema, litellm, datasets, dspy\n",
      "  Attempting uninstall: fsspec\n",
      "    Found existing installation: fsspec 2024.10.0\n",
      "    Uninstalling fsspec-2024.10.0:\n",
      "      Successfully uninstalled fsspec-2024.10.0\n",
      "\u001b[31mERROR: pip's dependency resolver does not currently take into account all the packages that are installed. This behaviour is the source of the following dependency conflicts.\n",
      "llama-index-legacy 0.9.48.post4 requires tenacity<9.0.0,>=8.2.0, but you have tenacity 9.0.0 which is incompatible.\n",
      "llama-index-core 0.11.22 requires tenacity!=8.4.0,<9.0.0,>=8.2.0, but you have tenacity 9.0.0 which is incompatible.\u001b[0m\u001b[31m\n",
      "\u001b[0mSuccessfully installed Mako-1.3.6 alembic-1.14.0 backoff-2.2.1 colorlog-6.9.0 datasets-3.1.0 dill-0.3.8 dspy-2.5.29 filelock-3.16.1 fsspec-2024.9.0 huggingface-hub-0.26.2 importlib-metadata-8.5.0 json-repair-0.30.1 jsonschema-4.23.0 jsonschema-specifications-2024.10.1 litellm-1.51.0 magicattr-0.1.6 multiprocess-0.70.16 optuna-4.0.0 pyarrow-18.0.0 referencing-0.35.1 rpds-py-0.21.0 tokenizers-0.20.3 ujson-5.10.0 xxhash-3.5.0 zipp-3.20.2\n",
      "\n",
      "\u001b[1m[\u001b[0m\u001b[34;49mnotice\u001b[0m\u001b[1;39;49m]\u001b[0m\u001b[39;49m A new release of pip is available: \u001b[0m\u001b[31;49m23.0.1\u001b[0m\u001b[39;49m -> \u001b[0m\u001b[32;49m24.3.1\u001b[0m\n",
      "\u001b[1m[\u001b[0m\u001b[34;49mnotice\u001b[0m\u001b[1;39;49m]\u001b[0m\u001b[39;49m To update, run: \u001b[0m\u001b[32;49mpip install --upgrade pip\u001b[0m\n"
     ]
    }
   ],
   "source": [
    "!pip install dspy"
   ]
  },
  {
   "cell_type": "code",
   "execution_count": null,
   "metadata": {
    "id": "J0XQcHKZMT6o"
   },
   "outputs": [],
   "source": [
    "# try:\n",
    "#     import datasets\n",
    "#     root_path = '.'\n",
    "# except ModuleNotFoundError:\n",
    "#     !git clone https://github.com/cgpotts/cs224u/\n",
    "#     !pip install -r cs224u/requirements.txt\n",
    "#     root_path = 'dsp'"
   ]
  },
  {
   "cell_type": "code",
   "execution_count": null,
   "metadata": {
    "id": "Wum_16i6PHoF"
   },
   "outputs": [],
   "source": [
    "key = ## API key ##\n",
    "os.environ[\"DSP_NOTEBOOK_CACHEDIR\"] = os.path.join(root_path, 'cache')\n",
    "openai_key = key"
   ]
  },
  {
   "cell_type": "markdown",
   "metadata": {
    "id": "-NPFQ4NI6ZRx"
   },
   "source": [
    "**Load and clean questions**"
   ]
  },
  {
   "cell_type": "code",
   "execution_count": null,
   "metadata": {
    "id": "9LIFXSpCDNhZ"
   },
   "outputs": [],
   "source": [
    "test = pd.read_json(\"/content/test.jsonl\", lines=True)"
   ]
  },
  {
   "cell_type": "code",
   "execution_count": null,
   "metadata": {
    "id": "gZMX40jzC04Y"
   },
   "outputs": [],
   "source": [
    "test = test[test['meta_info']!= 'step1']"
   ]
  },
  {
   "cell_type": "code",
   "execution_count": null,
   "metadata": {
    "id": "Ihn8vt11DkIq"
   },
   "outputs": [],
   "source": [
    "test_orig = test.reset_index(drop=True)"
   ]
  },
  {
   "cell_type": "code",
   "execution_count": null,
   "metadata": {
    "id": "SeuQnfz9IGXr"
   },
   "outputs": [],
   "source": [
    "test_orig['question'] = test_orig['question'].str.replace('Which of the following', 'What')\n",
    "test_orig['question'] = test_orig['question'].str.replace('which of the following', 'what')"
   ]
  },
  {
   "cell_type": "code",
   "execution_count": null,
   "metadata": {
    "id": "LkZp4bd7uqYN"
   },
   "outputs": [],
   "source": [
    "test_orig.to_csv('dev_cases.csv', index=False)"
   ]
  },
  {
   "cell_type": "markdown",
   "metadata": {
    "id": "Ygd1kdGsC_6c"
   },
   "source": [
    "**Selected Diagnosis Task Questions**"
   ]
  },
  {
   "cell_type": "code",
   "execution_count": null,
   "metadata": {
    "id": "mXkL2dLxDDxX"
   },
   "outputs": [],
   "source": [
    "diag_q = pd.read_csv('test_question_set.csv')"
   ]
  },
  {
   "cell_type": "markdown",
   "metadata": {
    "id": "l-7JbJLy6rtl"
   },
   "source": [
    "Load DSP module and Openai API with key\n",
    "(Note must provide own key)"
   ]
  },
  {
   "cell_type": "code",
   "execution_count": 18,
   "metadata": {
    "id": "wi8JLEeX6K4N"
   },
   "outputs": [],
   "source": [
    "lm = dsp.GPT3(model='text-davinci-003', api_key= os.environ.get('OPENAI_API_KEY'))\n",
    "dsp.settings.configure(lm=lm)"
   ]
  },
  {
   "cell_type": "code",
   "execution_count": 4,
   "metadata": {
    "id": "Q5XqwIcUA9FF"
   },
   "outputs": [],
   "source": [
    "Question = dsp.Type(prefix=\"Question:\", desc=\"${A patient passage to be analyzed and determine the patient's diagnosis}\")\n",
    "Answer = dsp.Type(prefix=\"Answer:\", desc=\"${a short factoid diagnosis, often between 1 and 9 words}\", format=dsp.format_answers)\n",
    "qa_template = dsp.Template(instructions=\"Diagnose the patients condition using the given passage with a short factoid answer.\", question=Question(), answer=Answer())"
   ]
  },
  {
   "cell_type": "code",
   "execution_count": 35,
   "metadata": {},
   "outputs": [
    {
     "data": {
      "text/plain": [
       "\"Follow the following format.\\n\\nQuestion: ${A patient passage to be analyzed and determine the patient's diagnosis}\\nAnswer: ${a short factoid diagnosis, often between 1 and 9 words}\""
      ]
     },
     "execution_count": 35,
     "metadata": {},
     "output_type": "execute_result"
    }
   ],
   "source": [
    "qa_template.guidelines()"
   ]
  },
  {
   "cell_type": "code",
   "execution_count": null,
   "metadata": {},
   "outputs": [
    {
     "ename": "AttributeError",
     "evalue": "'Example' object has no attribute 'demos'",
     "output_type": "error",
     "traceback": [
      "\u001b[0;31m---------------------------------------------------------------------------\u001b[0m",
      "\u001b[0;31mKeyError\u001b[0m                                  Traceback (most recent call last)",
      "File \u001b[0;32m~/development/health-tech-llm-code-lab/venv/lib/python3.10/site-packages/dsp/utils/utils.py:83\u001b[0m, in \u001b[0;36mdotdict.__getattr__\u001b[0;34m(self, key)\u001b[0m\n\u001b[1;32m     82\u001b[0m \u001b[38;5;28;01mtry\u001b[39;00m:\n\u001b[0;32m---> 83\u001b[0m     \u001b[38;5;28;01mreturn\u001b[39;00m \u001b[38;5;28;43mself\u001b[39;49m\u001b[43m[\u001b[49m\u001b[43mkey\u001b[49m\u001b[43m]\u001b[49m\n\u001b[1;32m     84\u001b[0m \u001b[38;5;28;01mexcept\u001b[39;00m \u001b[38;5;167;01mKeyError\u001b[39;00m:\n",
      "\u001b[0;31mKeyError\u001b[0m: 'demos'",
      "\nDuring handling of the above exception, another exception occurred:\n",
      "\u001b[0;31mAttributeError\u001b[0m                            Traceback (most recent call last)",
      "Cell \u001b[0;32mIn[33], line 1\u001b[0m\n\u001b[0;32m----> 1\u001b[0m \u001b[43mqa_template\u001b[49m\u001b[43m(\u001b[49m\u001b[43mexample\u001b[49m\u001b[43m \u001b[49m\u001b[38;5;241;43m=\u001b[39;49m\u001b[43m \u001b[49m\u001b[43mdsp\u001b[49m\u001b[38;5;241;43m.\u001b[39;49m\u001b[43mExample\u001b[49m\u001b[43m(\u001b[49m\u001b[43m{\u001b[49m\u001b[43m \u001b[49m\u001b[38;5;124;43m'\u001b[39;49m\u001b[38;5;124;43mquestion\u001b[39;49m\u001b[38;5;124;43m'\u001b[39;49m\u001b[43m:\u001b[49m\u001b[38;5;124;43m'\u001b[39;49m\u001b[38;5;124;43mHello\u001b[39;49m\u001b[38;5;124;43m'\u001b[39;49m\u001b[43m,\u001b[49m\u001b[43m \u001b[49m\u001b[38;5;124;43m'\u001b[39;49m\u001b[38;5;124;43manswer\u001b[39;49m\u001b[38;5;124;43m'\u001b[39;49m\u001b[43m:\u001b[49m\u001b[43m \u001b[49m\u001b[38;5;124;43m'\u001b[39;49m\u001b[38;5;124;43mhere is my answer\u001b[39;49m\u001b[38;5;124;43m'\u001b[39;49m\u001b[43m}\u001b[49m\u001b[43m)\u001b[49m\u001b[43m,\u001b[49m\u001b[43m \u001b[49m\u001b[43mshow_guidelines\u001b[49m\u001b[38;5;241;43m=\u001b[39;49m\u001b[38;5;28;43;01mTrue\u001b[39;49;00m\u001b[43m)\u001b[49m\n",
      "File \u001b[0;32m~/development/health-tech-llm-code-lab/venv/lib/python3.10/site-packages/dsp/adapters/template.py:150\u001b[0m, in \u001b[0;36mTemplate.__call__\u001b[0;34m(self, example, show_guidelines)\u001b[0m\n\u001b[1;32m    145\u001b[0m \u001b[38;5;28;01mif\u001b[39;00m \u001b[38;5;28mself\u001b[39m\u001b[38;5;241m.\u001b[39mfields[\u001b[38;5;241m-\u001b[39m\u001b[38;5;241m1\u001b[39m]\u001b[38;5;241m.\u001b[39minput_variable \u001b[38;5;129;01min\u001b[39;00m example:\n\u001b[1;32m    146\u001b[0m     \u001b[38;5;28;01mdel\u001b[39;00m example[\u001b[38;5;28mself\u001b[39m\u001b[38;5;241m.\u001b[39mfields[\u001b[38;5;241m-\u001b[39m\u001b[38;5;241m1\u001b[39m]\u001b[38;5;241m.\u001b[39minput_variable]\n\u001b[1;32m    148\u001b[0m rdemos \u001b[38;5;241m=\u001b[39m [\n\u001b[1;32m    149\u001b[0m     \u001b[38;5;28mself\u001b[39m\u001b[38;5;241m.\u001b[39mquery(demo, is_demo\u001b[38;5;241m=\u001b[39m\u001b[38;5;28;01mTrue\u001b[39;00m)\n\u001b[0;32m--> 150\u001b[0m     \u001b[38;5;28;01mfor\u001b[39;00m demo \u001b[38;5;129;01min\u001b[39;00m \u001b[43mexample\u001b[49m\u001b[38;5;241;43m.\u001b[39;49m\u001b[43mdemos\u001b[49m\n\u001b[1;32m    151\u001b[0m     \u001b[38;5;28;01mif\u001b[39;00m (\n\u001b[1;32m    152\u001b[0m         (\u001b[38;5;129;01mnot\u001b[39;00m demo\u001b[38;5;241m.\u001b[39mget(\u001b[38;5;124m\"\u001b[39m\u001b[38;5;124maugmented\u001b[39m\u001b[38;5;124m\"\u001b[39m, \u001b[38;5;28;01mFalse\u001b[39;00m))\n\u001b[1;32m    153\u001b[0m         \u001b[38;5;129;01mand\u001b[39;00m (  \u001b[38;5;66;03m# validate that the training example has the same primitive input var as the template\u001b[39;00m\n\u001b[1;32m    154\u001b[0m             \u001b[38;5;28mself\u001b[39m\u001b[38;5;241m.\u001b[39mfields[\u001b[38;5;241m-\u001b[39m\u001b[38;5;241m1\u001b[39m]\u001b[38;5;241m.\u001b[39minput_variable \u001b[38;5;129;01min\u001b[39;00m demo \u001b[38;5;129;01mand\u001b[39;00m demo[\u001b[38;5;28mself\u001b[39m\u001b[38;5;241m.\u001b[39mfields[\u001b[38;5;241m-\u001b[39m\u001b[38;5;241m1\u001b[39m]\u001b[38;5;241m.\u001b[39minput_variable] \u001b[38;5;129;01mis\u001b[39;00m \u001b[38;5;129;01mnot\u001b[39;00m \u001b[38;5;28;01mNone\u001b[39;00m\n\u001b[1;32m    155\u001b[0m         )\n\u001b[1;32m    156\u001b[0m     )\n\u001b[1;32m    157\u001b[0m ]\n\u001b[1;32m    159\u001b[0m ademos \u001b[38;5;241m=\u001b[39m [\u001b[38;5;28mself\u001b[39m\u001b[38;5;241m.\u001b[39mquery(demo, is_demo\u001b[38;5;241m=\u001b[39m\u001b[38;5;28;01mTrue\u001b[39;00m) \u001b[38;5;28;01mfor\u001b[39;00m demo \u001b[38;5;129;01min\u001b[39;00m example\u001b[38;5;241m.\u001b[39mdemos \u001b[38;5;28;01mif\u001b[39;00m demo\u001b[38;5;241m.\u001b[39mget(\u001b[38;5;124m\"\u001b[39m\u001b[38;5;124maugmented\u001b[39m\u001b[38;5;124m\"\u001b[39m, \u001b[38;5;28;01mFalse\u001b[39;00m)]\n\u001b[1;32m    161\u001b[0m \u001b[38;5;66;03m# Move the rdemos to ademos if rdemo has all the fields filled in\u001b[39;00m\n",
      "File \u001b[0;32m~/development/health-tech-llm-code-lab/venv/lib/python3.10/site-packages/dsp/utils/utils.py:85\u001b[0m, in \u001b[0;36mdotdict.__getattr__\u001b[0;34m(self, key)\u001b[0m\n\u001b[1;32m     83\u001b[0m     \u001b[38;5;28;01mreturn\u001b[39;00m \u001b[38;5;28mself\u001b[39m[key]\n\u001b[1;32m     84\u001b[0m \u001b[38;5;28;01mexcept\u001b[39;00m \u001b[38;5;167;01mKeyError\u001b[39;00m:\n\u001b[0;32m---> 85\u001b[0m     \u001b[38;5;28;01mraise\u001b[39;00m \u001b[38;5;167;01mAttributeError\u001b[39;00m(\u001b[38;5;124mf\u001b[39m\u001b[38;5;124m\"\u001b[39m\u001b[38;5;124m'\u001b[39m\u001b[38;5;132;01m{\u001b[39;00m\u001b[38;5;28mtype\u001b[39m(\u001b[38;5;28mself\u001b[39m)\u001b[38;5;241m.\u001b[39m\u001b[38;5;18m__name__\u001b[39m\u001b[38;5;132;01m}\u001b[39;00m\u001b[38;5;124m'\u001b[39m\u001b[38;5;124m object has no attribute \u001b[39m\u001b[38;5;124m'\u001b[39m\u001b[38;5;132;01m{\u001b[39;00mkey\u001b[38;5;132;01m}\u001b[39;00m\u001b[38;5;124m'\u001b[39m\u001b[38;5;124m\"\u001b[39m)\n",
      "\u001b[0;31mAttributeError\u001b[0m: 'Example' object has no attribute 'demos'"
     ]
    }
   ],
   "source": [
    "\n",
    "\n",
    "qa_template(example = dsp.Example({ 'question':'Hello', 'answer': 'here is my answer'}), show_guidelines=True)"
   ]
  },
  {
   "cell_type": "markdown",
   "metadata": {
    "id": "Zxdly7xHigNX"
   },
   "source": [
    "**Diagnosis: Few Shot with Chain of Thought (CoT)**"
   ]
  },
  {
   "cell_type": "code",
   "execution_count": null,
   "metadata": {
    "id": "bqr19xg7efrr"
   },
   "outputs": [],
   "source": [
    "demo_example_CoT = [\n",
    "    {\n",
    "        'question':'Shortly after undergoing a bipolar prosthesis for a displaced femoral neck fracture of the left hip acquired after a fall the day before, an 80-year-old woman suddenly develops dyspnea. The surgery under general anesthesia with sevoflurane was uneventful, lasting 98 minutes, during which the patient maintained oxygen saturation readings of 96â€“100% on 8 L of oxygen. She has a history of hypertension, osteoporosis, and osteoarthritis of her right knee. Her medications include ramipril, naproxen, ranitidine, and a multivitamin. She appears cyanotic, drowsy, and is oriented only to person. Her temperature is 38.6Â°C (101.5Â°F), pulse is 135/minute, respirations are 36/min, and blood pressure is 155/95 mm Hg. Pulse oximetry on room air shows an oxygen saturation of 81%. There are several scattered petechiae on the anterior chest wall. Laboratory studies show a hemoglobin concentration of 10.5 g/dL, a leukocyte count of 9,000/mm3, a platelet count of 145,000/mm3, and a creatine kinase of 190 U/L. An ECG shows sinus tachycardia. What is the most likely diagnosis?',\n",
    "        'answer': 'Fat embolism', \n",
    "        'rationale': 'The patient had a surgical repair of a displaced femoral neck fracture.  The patient has petechiae.  The patient has a new oxygen requirement, meaning they are having difficulty with their breathing.  This patient most likely has a fat embolism'\n",
    "    }, \n",
    "    {\n",
    "        'question': 'A 55-year-old man comes to the emergency department because of a dry cough and severe chest pain beginning that morning. Two months ago, he was diagnosed with inferior wall myocardial infarction and was treated with stent implantation of the right coronary artery. He has a history of hypertension and hypercholesterolemia. His medications include aspirin, clopidogrel, atorvastatin, and enalapril. His temperature is 38.5Â°C (101.3Â°F), pulse is 92/min, respirations are 22/min, and blood pressure is 130/80 mm Hg. Cardiac examination shows a high-pitched scratching sound best heard while sitting upright and during expiration. The remainder of the examination shows no abnormalities. An ECG shows diffuse ST elevations. Serum studies show a troponin I of 0.005 ng/mL (N < 0.01). What is the most likely cause of this patients symptoms?', \n",
    "        'answer': 'Dresslers Syndrome', \n",
    "        'rationale': 'This patient is having chest pain.  They recently had a heart attack and have new chest pain, suggestig he may have a problem with his heart.  The EKG has diffuse ST elevations and scratching murmur.  This patient likely has Dressler Syndrome.'\n",
    "    }\n",
    "]\n"
   ]
  },
  {
   "cell_type": "code",
   "execution_count": 21,
   "metadata": {
    "id": "1hZTHlsz-lAJ"
   },
   "outputs": [],
   "source": [
    "Rationale = dsp.Type(\n",
    "    prefix=\"Rationale: a step-by-step deduction that identifies the correct response.\",\n",
    "    desc=\"${Provide a step by step deduction that identifies the correct response.}\"\n",
    ")\n",
    "Question = dsp.Type(prefix=\"Question:\", desc=\"${the question to be answered}\")\n",
    "Answer = dsp.Type(prefix=\"Answer:\", desc=\"${a short factoid answer, often between 1 and 5 words}\", format=dsp.format_answers)"
   ]
  },
  {
   "cell_type": "code",
   "execution_count": null,
   "metadata": {
    "id": "ShGb2oWQ_yFI"
   },
   "outputs": [],
   "source": [
    "qa_template_with_CoT = dsp.Template(\n",
    "    instructions=qa_template.instructions, question=Question(), rationale=Rationale(), answer=Answer()\n",
    ")\n"
   ]
  },
  {
   "cell_type": "code",
   "execution_count": 36,
   "metadata": {},
   "outputs": [
    {
     "data": {
      "text/plain": [
       "'Follow the following format.\\n\\nQuestion: ${the question to be answered}\\nRationale: a step-by-step deduction that identifies the correct response. ${Provide a step by step deduction that identifies the correct response.}\\nAnswer: ${a short factoid answer, often between 1 and 5 words}'"
      ]
     },
     "execution_count": 36,
     "metadata": {},
     "output_type": "execute_result"
    }
   ],
   "source": [
    "qa_template_with_CoT.guidelines()"
   ]
  },
  {
   "cell_type": "code",
   "execution_count": null,
   "metadata": {},
   "outputs": [],
   "source": [
    "qa_template_with_CoT()"
   ]
  },
  {
   "cell_type": "code",
   "execution_count": 30,
   "metadata": {},
   "outputs": [
    {
     "ename": "TypeError",
     "evalue": "Template.__call__() got an unexpected keyword argument 'text'",
     "output_type": "error",
     "traceback": [
      "\u001b[0;31m---------------------------------------------------------------------------\u001b[0m",
      "\u001b[0;31mTypeError\u001b[0m                                 Traceback (most recent call last)",
      "Cell \u001b[0;32mIn[30], line 69\u001b[0m\n\u001b[1;32m     66\u001b[0m     \u001b[38;5;28mprint\u001b[39m(\u001b[38;5;124m\"\u001b[39m\u001b[38;5;124mEmail Classification Template:\u001b[39m\u001b[38;5;124m\"\u001b[39m)\n\u001b[1;32m     67\u001b[0m     \u001b[38;5;28mprint\u001b[39m(prompt)\n\u001b[0;32m---> 69\u001b[0m \u001b[43mdemonstrate_templates\u001b[49m\u001b[43m(\u001b[49m\u001b[43m)\u001b[49m\n",
      "Cell \u001b[0;32mIn[30], line 48\u001b[0m, in \u001b[0;36mdemonstrate_templates\u001b[0;34m()\u001b[0m\n\u001b[1;32m     45\u001b[0m \u001b[38;5;28;01mdef\u001b[39;00m \u001b[38;5;21mdemonstrate_templates\u001b[39m():\n\u001b[1;32m     46\u001b[0m     \u001b[38;5;66;03m# Example 1: Simple sentiment analysis\u001b[39;00m\n\u001b[1;32m     47\u001b[0m     text \u001b[38;5;241m=\u001b[39m \u001b[38;5;124m\"\u001b[39m\u001b[38;5;124mI absolutely love this new phone! The camera is amazing.\u001b[39m\u001b[38;5;124m\"\u001b[39m\n\u001b[0;32m---> 48\u001b[0m     prompt \u001b[38;5;241m=\u001b[39m \u001b[43msimple_template\u001b[49m\u001b[43m(\u001b[49m\u001b[43mtext\u001b[49m\u001b[38;5;241;43m=\u001b[39;49m\u001b[43mtext\u001b[49m\u001b[43m)\u001b[49m\n\u001b[1;32m     49\u001b[0m     \u001b[38;5;28mprint\u001b[39m(\u001b[38;5;124m\"\u001b[39m\u001b[38;5;124mSentiment Analysis Template:\u001b[39m\u001b[38;5;124m\"\u001b[39m)\n\u001b[1;32m     50\u001b[0m     \u001b[38;5;28mprint\u001b[39m(prompt)\n",
      "\u001b[0;31mTypeError\u001b[0m: Template.__call__() got an unexpected keyword argument 'text'"
     ]
    }
   ],
   "source": [
    "import dsp\n",
    "\n",
    "# Create basic templates\n",
    "simple_template = dsp.Template(\"\"\"\n",
    "Please classify the sentiment of the following text as positive, negative, or neutral:\n",
    "\n",
    "Text: {{text}}\n",
    "\n",
    "Sentiment:\"\"\")\n",
    "\n",
    "# Template with multiple parameters and formatting\n",
    "review_template = dsp.Template(\"\"\"\n",
    "Product: {{product_name}}\n",
    "Rating: {{rating}}/5\n",
    "Review: {{review_text}}\n",
    "\n",
    "Based on the above product review, please analyze:\n",
    "1. Key positive points\n",
    "2. Key negative points\n",
    "3. Overall recommendation\n",
    "\n",
    "Analysis:\"\"\")\n",
    "\n",
    "# Template with instructions and examples\n",
    "classification_template = dsp.Template(\"\"\"\n",
    "Classify the following email into one of these categories:\n",
    "- Urgent Business\n",
    "- Personal\n",
    "- Marketing\n",
    "- Spam\n",
    "\n",
    "Example 1:\n",
    "Email: \"CONGRATULATIONS! You've won $1,000,000 in our lottery!\"\n",
    "Classification: Spam\n",
    "\n",
    "Example 2:\n",
    "Email: \"Meeting with client moved to 2pm today\"\n",
    "Classification: Urgent Business\n",
    "\n",
    "Now classify this email:\n",
    "{{email_text}}\n",
    "\n",
    "Classification:\"\"\")\n",
    "\n",
    "def demonstrate_templates():\n",
    "    # Example 1: Simple sentiment analysis\n",
    "    text = \"I absolutely love this new phone! The camera is amazing.\"\n",
    "    prompt = simple_template(text=text)\n",
    "    print(\"Sentiment Analysis Template:\")\n",
    "    print(prompt)\n",
    "    print(\"\\n\" + \"=\"*50 + \"\\n\")\n",
    "    \n",
    "    # Example 2: Product review analysis\n",
    "    prompt = review_template(\n",
    "        product_name=\"Wireless Earbuds Pro\",\n",
    "        rating=\"4\",\n",
    "        review_text=\"Great sound quality and comfortable fit. Battery life could be better though.\"\n",
    "    )\n",
    "    print(\"Review Analysis Template:\")\n",
    "    print(prompt)\n",
    "    print(\"\\n\" + \"=\"*50 + \"\\n\")\n",
    "    \n",
    "    # Example 3: Email classification\n",
    "    email = \"Dear valued customer, check out our amazing deals this weekend!\"\n",
    "    prompt = classification_template(email_text=email)\n",
    "    print(\"Email Classification Template:\")\n",
    "    print(prompt)\n",
    "\n",
    "demonstrate_templates()"
   ]
  },
  {
   "cell_type": "code",
   "execution_count": 25,
   "metadata": {},
   "outputs": [
    {
     "ename": "AttributeError",
     "evalue": "'dict' object has no attribute 'demos_at'",
     "output_type": "error",
     "traceback": [
      "\u001b[0;31m---------------------------------------------------------------------------\u001b[0m",
      "\u001b[0;31mAttributeError\u001b[0m                            Traceback (most recent call last)",
      "Cell \u001b[0;32mIn[25], line 1\u001b[0m\n\u001b[0;32m----> 1\u001b[0m \u001b[43mdsp\u001b[49m\u001b[38;5;241;43m.\u001b[39;49m\u001b[43mgenerate\u001b[49m\u001b[43m(\u001b[49m\u001b[43mqa_template_with_CoT\u001b[49m\u001b[43m,\u001b[49m\u001b[43m \u001b[49m\u001b[43mn\u001b[49m\u001b[38;5;241;43m=\u001b[39;49m\u001b[38;5;241;43m23\u001b[39;49m\u001b[43m,\u001b[49m\u001b[43m \u001b[49m\u001b[43mtemperature\u001b[49m\u001b[38;5;241;43m=\u001b[39;49m\u001b[38;5;241;43m0.7\u001b[39;49m\u001b[43m)\u001b[49m\u001b[43m(\u001b[49m\u001b[43m{\u001b[49m\u001b[38;5;124;43m'\u001b[39;49m\u001b[38;5;124;43mquestion\u001b[39;49m\u001b[38;5;124;43m'\u001b[39;49m\u001b[43m:\u001b[49m\u001b[43m \u001b[49m\u001b[38;5;124;43m'\u001b[39;49m\u001b[38;5;124;43mthis is my question\u001b[39;49m\u001b[38;5;124;43m'\u001b[39;49m\u001b[43m,\u001b[49m\u001b[43m \u001b[49m\u001b[38;5;124;43m'\u001b[39;49m\u001b[38;5;124;43manswer\u001b[39;49m\u001b[38;5;124;43m'\u001b[39;49m\u001b[43m:\u001b[49m\u001b[43m \u001b[49m\u001b[38;5;124;43m'\u001b[39;49m\u001b[38;5;124;43mthis is my answer\u001b[39;49m\u001b[38;5;124;43m'\u001b[39;49m\u001b[43m}\u001b[49m\u001b[43m,\u001b[49m\u001b[43m \u001b[49m\u001b[43mstage\u001b[49m\u001b[43m \u001b[49m\u001b[38;5;241;43m=\u001b[39;49m\u001b[43m \u001b[49m\u001b[38;5;124;43m'\u001b[39;49m\u001b[38;5;124;43mqa\u001b[39;49m\u001b[38;5;124;43m'\u001b[39;49m\u001b[43m)\u001b[49m\n",
      "File \u001b[0;32m~/development/health-tech-llm-code-lab/venv/lib/python3.10/site-packages/dsp/primitives/predict.py:69\u001b[0m, in \u001b[0;36m_generate.<locals>.do_generate\u001b[0;34m(example, stage, max_depth, original_example)\u001b[0m\n\u001b[1;32m     66\u001b[0m \u001b[38;5;28;01massert\u001b[39;00m stage \u001b[38;5;129;01mis\u001b[39;00m \u001b[38;5;129;01mnot\u001b[39;00m \u001b[38;5;28;01mNone\u001b[39;00m\n\u001b[1;32m     68\u001b[0m \u001b[38;5;66;03m# Look up the appropriate fields in each demonstration.\u001b[39;00m\n\u001b[0;32m---> 69\u001b[0m example \u001b[38;5;241m=\u001b[39m \u001b[43mexample\u001b[49m\u001b[38;5;241;43m.\u001b[39;49m\u001b[43mdemos_at\u001b[49m(\u001b[38;5;28;01mlambda\u001b[39;00m d: d[stage])\n\u001b[1;32m     71\u001b[0m \u001b[38;5;66;03m# Generate and extract the fields.\u001b[39;00m\n\u001b[1;32m     72\u001b[0m prompt \u001b[38;5;241m=\u001b[39m template(example)\n",
      "\u001b[0;31mAttributeError\u001b[0m: 'dict' object has no attribute 'demos_at'"
     ]
    }
   ],
   "source": [
    "dsp.generate(qa_template_with_CoT, n=23, temperature=0.7)({'question': 'this is my question', 'answer': 'this is my answer'}, stage = 'qa')"
   ]
  },
  {
   "cell_type": "code",
   "execution_count": null,
   "metadata": {
    "id": "vkStrPn6IlmO"
   },
   "outputs": [],
   "source": [
    "diag_q['SC'] = np.nan\n",
    "diag_q['SC__rationale'] = np.nan"
   ]
  },
  {
   "cell_type": "code",
   "execution_count": 26,
   "metadata": {
    "id": "uWC9Sb0fHRyJ"
   },
   "outputs": [
    {
     "ename": "AttributeError",
     "evalue": "module 'dsp' has no attribute 'transformation'",
     "output_type": "error",
     "traceback": [
      "\u001b[0;31m---------------------------------------------------------------------------\u001b[0m",
      "\u001b[0;31mAttributeError\u001b[0m                            Traceback (most recent call last)",
      "Cell \u001b[0;32mIn[26], line 1\u001b[0m\n\u001b[0;32m----> 1\u001b[0m \u001b[38;5;129m@dsp\u001b[39m\u001b[38;5;241;43m.\u001b[39;49m\u001b[43mtransformation\u001b[49m\n\u001b[1;32m      2\u001b[0m \u001b[38;5;28;01mdef\u001b[39;00m \u001b[38;5;21mQA_predict\u001b[39m(example: dsp\u001b[38;5;241m.\u001b[39mExample, sc\u001b[38;5;241m=\u001b[39m\u001b[38;5;28;01mTrue\u001b[39;00m):\n\u001b[1;32m      3\u001b[0m     rats \u001b[38;5;241m=\u001b[39m [ ]\n\u001b[1;32m      4\u001b[0m     \u001b[38;5;28;01mif\u001b[39;00m sc \u001b[38;5;241m==\u001b[39m \u001b[38;5;28;01mTrue\u001b[39;00m:\n",
      "\u001b[0;31mAttributeError\u001b[0m: module 'dsp' has no attribute 'transformation'"
     ]
    }
   ],
   "source": [
    "@dsp.transformation\n",
    "def QA_predict(example: dsp.Example, sc=True):\n",
    "    rats = [ ]\n",
    "    if sc == True:\n",
    "        example, completions = dsp.generate(qa_template_with_CoT, n=23, temperature=0.7)(example, stage='qa')\n",
    "\n",
    "        for i in range(23):\n",
    "          try:\n",
    "            rats.append(completions[i].rationale + '__')\n",
    "          except IndexError:\n",
    "            break\n",
    "        # print(rats)\n",
    "        completions_total = dsp.majority(completions)\n",
    "    else:\n",
    "        example, completions = dsp.generate(qa_template_with_CoT)(example, stage='qa')\n",
    "        #print(completions.rationale)\n",
    "    return example.copy(answer=completions_total.answer, rationale = rats)"
   ]
  },
  {
   "cell_type": "code",
   "execution_count": null,
   "metadata": {
    "id": "xrxpoZ3gHMGV"
   },
   "outputs": [],
   "source": [
    "def vanilla_LM_QA_FewCoT_SC(question: str) -> str:\n",
    "    example = dsp.Example(question=question, demos=demo_example_CoT)\n",
    "    return QA_predict(example, sc=True).answer, QA_predict(example, sc=True).rationale"
   ]
  },
  {
   "cell_type": "code",
   "execution_count": null,
   "metadata": {
    "id": "q-NudypAFHxs"
   },
   "outputs": [],
   "source": [
    "for i in range(519):\n",
    "   print(i)\n",
    "   a = vanilla_LM_QA_FewCoT_SC(diag_q['question'][i])\n",
    "   diag_q['SC'][i] = a[0]\n",
    "   diag_q['SC__rationale'][i] = a[1]\n",
    "   diag_q.to_csv('/content/drive/MyDrive/file1.csv', index=False)"
   ]
  },
  {
   "cell_type": "code",
   "execution_count": null,
   "metadata": {
    "id": "pD6DkpRpIcu9"
   },
   "outputs": [],
   "source": [
    "diag_q.to_csv('SC.csv', index=False)"
   ]
  },
  {
   "cell_type": "markdown",
   "metadata": {
    "id": "qv70Z9GgDbnZ"
   },
   "source": [
    "**Clinical Reasoning Prompts**\n"
   ]
  },
  {
   "cell_type": "markdown",
   "metadata": {
    "id": "hG-6ZWvPojV6"
   },
   "source": [
    "**Clinical Reasoning**\n",
    "\n",
    "Here we use a modified CoT for Self-consistency.  Below are the different rationales for the different types of questions:\n",
    "- Differential Diagnosis\n",
    "- Intuitive Reasoning\n",
    "- Analytic Reasoning\n",
    "- Bayesian Inference"
   ]
  },
  {
   "cell_type": "code",
   "execution_count": null,
   "metadata": {
    "id": "swm8oGuEdrMW"
   },
   "outputs": [],
   "source": [
    "diag_q['diag_IR'] = np.nan\n",
    "diag_q['diag_IR_rationale'] = np.nan\n",
    "diag_q['IR_numb'] = np.nan\n",
    "diag_q['diag_AR'] = np.nan\n",
    "diag_q['diag_AR_rationale'] = np.nan\n",
    "diag_q['AR_numb'] = np.nan\n",
    "diag_q['diag_BR'] = np.nan\n",
    "diag_q['diag_BR_rationale'] = np.nan\n",
    "diag_q['BR_numb'] = np.nan\n",
    "diag_q['diag_DR'] = np.nan\n",
    "diag_q['diag_DR_rationale'] = np.nan\n",
    "diag_q['DR_numb'] = np.nan\n"
   ]
  },
  {
   "cell_type": "code",
   "execution_count": null,
   "metadata": {
    "id": "a-PtKbdqPl-s"
   },
   "outputs": [],
   "source": [
    "Context = dsp.Type(\n",
    "    prefix=\"Context:\\n\",\n",
    "    desc=\"${sources that may contain relevant content}\",\n",
    "    format=dsp.passages2text\n",
    ")"
   ]
  },
  {
   "cell_type": "markdown",
   "metadata": {
    "id": "bexIL2gYam88"
   },
   "source": [
    "Examples for each type of reasoning:"
   ]
  },
  {
   "cell_type": "code",
   "execution_count": null,
   "metadata": {
    "id": "-wr4RboQaqIo"
   },
   "outputs": [],
   "source": [
    "demo_example_DR = [{'question':'Shortly after undergoing a bipolar prosthesis for a displaced femoral neck fracture of the left hip acquired after a fall the day before, an 80-year-old woman suddenly develops dyspnea. The surgery under general anesthesia with sevoflurane was uneventful, lasting 98 minutes, during which the patient maintained oxygen saturation readings of 96â€“100% on 8 L of oxygen. She has a history of hypertension, osteoporosis, and osteoarthritis of her right knee. Her medications include ramipril, naproxen, ranitidine, and a multivitamin. She appears cyanotic, drowsy, and is oriented only to person. Her temperature is 38.6Â°C (101.5Â°F), pulse is 135/minute, respirations are 36/min, and blood pressure is 155/95 mm Hg. Pulse oximetry on room air shows an oxygen saturation of 81%. There are several scattered petechiae on the anterior chest wall. Laboratory studies show a hemoglobin concentration of 10.5 g/dL, a leukocyte count of 9,000/mm3, a platelet count of 145,000/mm3, and a creatine kinase of 190 U/L. An ECG shows sinus tachycardia. What is the most likely diagnosis?','answer': 'Fat embolism', 'rationale': 'This patient has shortness of breath after a long bone surgery.  The differential for this patient is pulmonary embolism, fat embolism, myocardial infarction, blood loss, anaphylaxis, or a drug reaction.  The patient has petechiae which makes fat embolism more likely.  This patient most likely has a fat embolism.'}, {'question': 'A 55-year-old man comes to the emergency department because of a dry cough and severe chest pain beginning that morning. Two months ago, he was diagnosed with inferior wall myocardial infarction and was treated with stent implantation of the right coronary artery. He has a history of hypertension and hypercholesterolemia. His medications include aspirin, clopidogrel, atorvastatin, and enalapril. His temperature is 38.5Â°C (101.3Â°F), pulse is 92/min, respirations are 22/min, and blood pressure is 130/80 mm Hg. Cardiac examination shows a high-pitched scratching sound best heard while sitting upright and during expiration. The remainder of the examination shows no abnormalities. An ECG shows diffuse ST elevations. Serum studies show a troponin I of 0.005 ng/mL (N < 0.01). What is the most likely cause of this patients symptoms?', 'answer': 'Dresslers Syndrome', 'rationale': 'This patient has chest pain with diffuse ST elevations after a recent myocardial infarction.  The differential for this patient includes: myocardial infarction, pulmonary embolism, pericarditis, Dressler syndrome, aortic dissection, and costochondritis.   This patient likely has a high-pitched scratching sound on auscultation associated with pericarditis and Dressler Syndrome.  This patient has diffuse ST elevations associated with Dressler Syndrome.  This patient most likely has Dressler Syndrome.'}]\n",
    "demo_example_IR = [{'question':'Shortly after undergoing a bipolar prosthesis for a displaced femoral neck fracture of the left hip acquired after a fall the day before, an 80-year-old woman suddenly develops dyspnea. The surgery under general anesthesia with sevoflurane was uneventful, lasting 98 minutes, during which the patient maintained oxygen saturation readings of 96â€“100% on 8 L of oxygen. She has a history of hypertension, osteoporosis, and osteoarthritis of her right knee. Her medications include ramipril, naproxen, ranitidine, and a multivitamin. She appears cyanotic, drowsy, and is oriented only to person. Her temperature is 38.6Â°C (101.5Â°F), pulse is 135/minute, respirations are 36/min, and blood pressure is 155/95 mm Hg. Pulse oximetry on room air shows an oxygen saturation of 81%. There are several scattered petechiae on the anterior chest wall. Laboratory studies show a hemoglobin concentration of 10.5 g/dL, a leukocyte count of 9,000/mm3, a platelet count of 145,000/mm3, and a creatine kinase of 190 U/L. An ECG shows sinus tachycardia. What is the most likely diagnosis?','answer': 'Fat embolism', 'rationale': 'This patient has findings of petechiae, altered mental status, shortness of breath, and recent surgery suggesting a diagnosis of fat emboli.  The patient most likely has a fat embolism. '}, {'question': 'A 55-year-old man comes to the emergency department because of a dry cough and severe chest pain beginning that morning. Two months ago, he was diagnosed with inferior wall myocardial infarction and was treated with stent implantation of the right coronary artery. He has a history of hypertension and hypercholesterolemia. His medications include aspirin, clopidogrel, atorvastatin, and enalapril. His temperature is 38.5Â°C (101.3Â°F), pulse is 92/min, respirations are 22/min, and blood pressure is 130/80 mm Hg. Cardiac examination shows a high-pitched scratching sound best heard while sitting upright and during expiration. The remainder of the examination shows no abnormalities. An ECG shows diffuse ST elevations. Serum studies show a troponin I of 0.005 ng/mL (N < 0.01). What is the most likely cause of this patients symptoms?', 'answer': 'Dresslers Syndrome', 'rationale': 'This patient had a recent myocardial infarction with new development of diffuse ST elevations, chest pain, and a high pitched scratching murmur which are found in Dresslers syndrome.   This patient likely has Dresslers Syndrome.'}]\n",
    "demo_example_AR = [{'question':'Shortly after undergoing a bipolar prosthesis for a displaced femoral neck fracture of the left hip acquired after a fall the day before, an 80-year-old woman suddenly develops dyspnea. The surgery under general anesthesia with sevoflurane was uneventful, lasting 98 minutes, during which the patient maintained oxygen saturation readings of 96â€“100% on 8 L of oxygen. She has a history of hypertension, osteoporosis, and osteoarthritis of her right knee. Her medications include ramipril, naproxen, ranitidine, and a multivitamin. She appears cyanotic, drowsy, and is oriented only to person. Her temperature is 38.6Â°C (101.5Â°F), pulse is 135/minute, respirations are 36/min, and blood pressure is 155/95 mm Hg. Pulse oximetry on room air shows an oxygen saturation of 81%. There are several scattered petechiae on the anterior chest wall. Laboratory studies show a hemoglobin concentration of 10.5 g/dL, a leukocyte count of 9,000/mm3, a platelet count of 145,000/mm3, and a creatine kinase of 190 U/L. An ECG shows sinus tachycardia. What is the most likely diagnosis?','answer': 'Fat embolism', 'rationale': 'The patient recently had large bone surgery making fat emboli a potential cause because the bone marrow was manipulated.  Petechiae can form in response to capillary inflammation caused by fat emboli.  Fat micro globules cause CNS microcirculation occlusion causing confusion and altered mental status.  Fat obstruction in the pulmonary arteries can cause tachycardia and shortness of breath as seen in this patient.   This patient most likely has a fat embolism.'}, {'question': 'A 55-year-old man comes to the emergency department because of a dry cough and severe chest pain beginning that morning. Two months ago, he was diagnosed with inferior wall myocardial infarction and was treated with stent implantation of the right coronary artery. He has a history of hypertension and hypercholesterolemia. His medications include aspirin, clopidogrel, atorvastatin, and enalapril. His temperature is 38.5Â°C (101.3Â°F), pulse is 92/min, respirations are 22/min, and blood pressure is 130/80 mm Hg. Cardiac examination shows a high-pitched scratching sound best heard while sitting upright and during expiration. The remainder of the examination shows no abnormalities. An ECG shows diffuse ST elevations. Serum studies show a troponin I of 0.005 ng/mL (N < 0.01). What is the most likely cause of this patients symptoms?', 'answer': 'Dresslers Syndrome', 'rationale': 'This patient had a recent myocardial infarction which can cause myocardial inflammation that causes pericarditis and Dressler Syndrome.  The diffuse ST elevations and high pitched scratching murmur can be signs of pericardial inflammation as the inflamed pericardium rubs against the pleura as seen with Dressler Syndrome.  This patient likely has Dressler Syndrome.'}]\n",
    "demo_example_BR = [{'question':'Shortly after undergoing a bipolar prosthesis for a displaced femoral neck fracture of the left hip acquired after a fall the day before, an 80-year-old woman suddenly develops dyspnea. The surgery under general anesthesia with sevoflurane was uneventful, lasting 98 minutes, during which the patient maintained oxygen saturation readings of 96â€“100% on 8 L of oxygen. She has a history of hypertension, osteoporosis, and osteoarthritis of her right knee. Her medications include ramipril, naproxen, ranitidine, and a multivitamin. She appears cyanotic, drowsy, and is oriented only to person. Her temperature is 38.6Â°C (101.5Â°F), pulse is 135/minute, respirations are 36/min, and blood pressure is 155/95 mm Hg. Pulse oximetry on room air shows an oxygen saturation of 81%. There are several scattered petechiae on the anterior chest wall. Laboratory studies show a hemoglobin concentration of 10.5 g/dL, a leukocyte count of 9,000/mm3, a platelet count of 145,000/mm3, and a creatine kinase of 190 U/L. An ECG shows sinus tachycardia. What is the most likely diagnosis?','answer': 'Fat embolism', 'rationale': 'The prior probability of fat embolism is 0.05% however the patient has petechiae on exam which is seen with fat emboli, which increases the posterior probability of fat embolism to 5%.  Altered mental status increases the probability further to 10%.  Recent orthopedic surgery increases the probability of fat emboli syndrome to 60%.  This patient most likely has a fat embolism. '}, {'question': 'A 55-year-old man comes to the emergency department because of a dry cough and severe chest pain beginning that morning. Two months ago, he was diagnosed with inferior wall myocardial infarction and was treated with stent implantation of the right coronary artery. He has a history of hypertension and hypercholesterolemia. His medications include aspirin, clopidogrel, atorvastatin, and enalapril. His temperature is 38.5Â°C (101.3Â°F), pulse is 92/min, respirations are 22/min, and blood pressure is 130/80 mm Hg. Cardiac examination shows a high-pitched scratching sound best heard while sitting upright and during expiration. The remainder of the examination shows no abnormalities. An ECG shows diffuse ST elevations. Serum studies show a troponin I of 0.005 ng/mL (N < 0.01). What is the most likely cause of this patients symptoms?', 'answer': 'Dresslers Syndrome', 'rationale': 'The prior probability of Dressler Syndrome is 0.01%. The patient has diffuse ST elevations, increasing the probability of Dressler Syndrome to 5%.  The patient has a scratching murmur which increases the probability to 10%.  In the setting of a recent MI the posterior probability of myocardial infarction is 55%.  This patient likely has Dressler Syndrome.'}]"
   ]
  },
  {
   "cell_type": "code",
   "execution_count": 13,
   "metadata": {
    "id": "zCtvh0zUpOKV"
   },
   "outputs": [],
   "source": [
    "# Intuitive Rationale\n",
    "Rationale_diag_IR = dsp.Type(\n",
    "    prefix=\"Rationale: a step-by-step deduction that identifies the correct response\",\n",
    "    desc=\"${Use symptom, signs and laboratory disease associations to step by step deduce the correct response}\")\n",
    "\n",
    "# Differential Rationale\n",
    "Rationale_diag_DR = dsp.Type(\n",
    "    prefix=\"Rationale: a step-by-step deduction that identifies the correct response\",\n",
    "    desc=\"${Use step by step deduction to create a differential diagnosis and then use step by step deduction to determine the correct response.}\")\n",
    "\n",
    "# Analytic Rationale\n",
    "Rationale_diag_AR = dsp.Type(\n",
    "    prefix=\"Rationale: a step-by-step deduction that identifies the correct response.\",\n",
    "    desc=\"${Use analytic reasoning to deduce the physiologic or biochemical pathophysiology of the patient and step by step identify the correct response.}\")\n",
    "\n",
    "# Bayesian Rationale\n",
    "Rationale_diag_BR = dsp.Type(\n",
    "    prefix=\"Rationale: a step-by-step deduction that identifies the correct response.\",\n",
    "    desc=\"${Use step by step Bayesian Inference to create a prior probability that is updated with new information in the history to produce a posterior probability and determine the final diagnosis.}\")\n",
    "\n"
   ]
  },
  {
   "cell_type": "code",
   "execution_count": 15,
   "metadata": {
    "id": "LHSqW8pQpXzr"
   },
   "outputs": [],
   "source": [
    "qa_template_diag_IR = dsp.Template(\n",
    "    instructions=qa_template.instructions, question=Question(), rationale=Rationale_diag_IR(), answer=Answer()\n",
    ")\n",
    "\n",
    "qa_template_diag_AR = dsp.Template(\n",
    "    instructions=qa_template.instructions, question=Question(), rationale=Rationale_diag_AR(), answer=Answer()\n",
    ")\n",
    "\n",
    "\n",
    "qa_template_diag_BR = dsp.Template(\n",
    "    instructions=qa_template.instructions,question=Question(), rationale=Rationale_diag_BR(), answer=Answer()\n",
    ")\n",
    "\n",
    "qa_template_diag_DR = dsp.Template(\n",
    "    instructions=qa_template.instructions,question=Question(), rationale=Rationale_diag_DR(), answer=Answer()\n",
    ")\n"
   ]
  },
  {
   "cell_type": "code",
   "execution_count": null,
   "metadata": {
    "id": "sMzkPPNoprCj"
   },
   "outputs": [],
   "source": [
    "@dsp.transformation\n",
    "def QA_predict_IR(example: dsp.Example, sc=True):\n",
    "    rats = [ ]\n",
    "    if sc ==True :\n",
    "        example, completions = dsp.generate(qa_template_diag_IR, n=23, temperature=0.7)(example, stage='qa')\n",
    "        runs = len(completions)\n",
    "        for i in range(len(completions)):\n",
    "          rats.append(completions[i].rationale + '__')\n",
    "        completions_total = dsp.majority(completions)\n",
    "    else:\n",
    "        example, completions = dsp.generate(qa_template_diag_IR)(example, stage='qa')\n",
    "    return example.copy(answer=completions_total.answer, rationale = rats, run_numb = runs)\n",
    "\n",
    "def QA_predict_AR(example: dsp.Example, sc=True):\n",
    "    rats = [ ]\n",
    "    if sc ==True :\n",
    "        example, completions = dsp.generate(qa_template_diag_AR, n=23, temperature=0.7)(example, stage='qa')\n",
    "        runs = len(completions)\n",
    "        for i in range(len(completions)):\n",
    "          rats.append(completions[i].rationale + '__')\n",
    "        completions_total = dsp.majority(completions)\n",
    "    else:\n",
    "        example, completions = dsp.generate(qa_template_diag_AR)(example, stage='qa')\n",
    "    return example.copy(answer=completions_total.answer, rationale = rats, run_numb = runs)\n",
    "\n",
    "def QA_predict_BR(example: dsp.Example, sc=True):\n",
    "    rats = [ ]\n",
    "    if sc ==True :\n",
    "        example, completions = dsp.generate(qa_template_diag_BR, n=23, temperature=0.7)(example, stage='qa')\n",
    "        runs = len(completions)\n",
    "        for i in range(len(completions)):\n",
    "          rats.append(completions[i].rationale + '__')\n",
    "        completions_total = dsp.majority(completions)\n",
    "    else:\n",
    "        example, completions = dsp.generate(qa_template_diag_BR)(example, stage='qa')\n",
    "    return example.copy(answer=completions_total.answer, rationale = rats, run_numb = runs)\n",
    "\n",
    "def QA_predict_DR(example: dsp.Example, sc=True):\n",
    "    rats = [ ]\n",
    "    if sc ==True :\n",
    "        example, completions = dsp.generate(qa_template_diag_DR, n=23, temperature=0.7)(example, stage='qa')\n",
    "        runs = len(completions)\n",
    "        for i in range(len(completions)):\n",
    "          rats.append(completions[i].rationale + '__')\n",
    "        completions_total = dsp.majority(completions)\n",
    "    else:\n",
    "        example, completions = dsp.generate(qa_template_diag_DR)(example, stage='qa')\n",
    "    return example.copy(answer=completions_total.answer, rationale = rats, run_numb = runs)\n"
   ]
  },
  {
   "cell_type": "code",
   "execution_count": null,
   "metadata": {
    "id": "ECgYlAZtqNCe"
   },
   "outputs": [],
   "source": [
    "import random\n",
    "def retrieve_then_QA_IR(question: str, selected) -> str:\n",
    "    demos = demo_example_IR\n",
    "    example = dsp.Example(question=question, demos=demos)\n",
    "    return QA_predict_IR(example, sc=True).answer, QA_predict_IR(example, sc=True).rationale, QA_predict_IR(example, sc=True).run_numb\n",
    "\n",
    "\n",
    "def retrieve_then_QA_AR(question: str, selected) -> str:\n",
    "    demos = demo_example_AR\n",
    "    example = dsp.Example(question=question, context=passages, demos=demos)\n",
    "\n",
    "    return QA_predict_AR(example, sc=True).answer, QA_predict_AR(example, sc=True).rationale, QA_predict_AR(example, sc=True).run_numb\n",
    "\n",
    "def retrieve_then_QA_BR(question: str, selected) -> str:\n",
    "    demos = demo_example_BR\n",
    "    example = dsp.Example(question=question, context=passages, demos=demos)\n",
    "\n",
    "    return QA_predict_BR(example, sc=True).answer, QA_predict_BR(example, sc=True).rationale, QA_predict_BR(example, sc=True).run_numb\n",
    "\n",
    "\n",
    "def retrieve_then_QA_DR(question: str, selected) -> str:\n",
    "    demos = demo_example_DR\n",
    "    example = dsp.Example(question=question, context=passages, demos=demos)\n",
    "\n",
    "    return QA_predict_DR(example, sc=True).answer, QA_predict_DR(example, sc=True).rationale, QA_predict_DR(example, sc=True).run_numb\n",
    "\n"
   ]
  },
  {
   "cell_type": "code",
   "execution_count": null,
   "metadata": {
    "id": "M1CNPKNKqzDx"
   },
   "outputs": [],
   "source": [
    "for i in range(519):\n",
    "  print(i)\n",
    "  a = retrieve_then_QA_IR(diag_q['question'][i],selected)\n",
    "  diag_q['diag_IR'][i] = a[0]\n",
    "  diag_q['diag_IR_rationale'][i] = a[1]\n",
    "  diag_q['IR_numb'][i] = a[2]\n",
    "\n",
    "  b = retrieve_then_QA_DR(diag_q['question'][i],selected)\n",
    "  diag_q['diag_DR5'][i] = b[0]\n",
    "  diag_q['diag_DR_rationale'][i] = b[1]\n",
    "  diag_q['DR_numb'][i] = b[2]\n",
    "\n",
    "  c = retrieve_then_QA_AR(diag_q['question'][i],selected)\n",
    "  diag_q['diag_AR6'][i] = c[0]\n",
    "  diag_q['diag_AR_rationale'][i] = c[1]\n",
    "  diag_q['AR_numb'][i] = c[2]\n",
    "\n",
    "  d = retrieve_then_QA_BR(diag_q['question'][i],selected)\n",
    "  diag_q['diag_BR4'][i] = d[0]\n",
    "  diag_q['diag_BR_rationale'][i] = d[1]\n",
    "  diag_q['BR_numb'][i] = d[2]\n",
    "\n"
   ]
  },
  {
   "cell_type": "code",
   "execution_count": null,
   "metadata": {
    "id": "i8rwC1zftLQZ"
   },
   "outputs": [],
   "source": [
    "diag_q.to_csv('Test_Results.csv', index=False)\n"
   ]
  }
 ],
 "metadata": {
  "accelerator": "GPU",
  "colab": {
   "machine_shape": "hm",
   "provenance": []
  },
  "gpuClass": "standard",
  "kernelspec": {
   "display_name": "venv",
   "language": "python",
   "name": "python3"
  },
  "language_info": {
   "codemirror_mode": {
    "name": "ipython",
    "version": 3
   },
   "file_extension": ".py",
   "mimetype": "text/x-python",
   "name": "python",
   "nbconvert_exporter": "python",
   "pygments_lexer": "ipython3",
   "version": "3.10.14"
  }
 },
 "nbformat": 4,
 "nbformat_minor": 0
}
